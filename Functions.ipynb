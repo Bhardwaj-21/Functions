{
  "nbformat": 4,
  "nbformat_minor": 0,
  "metadata": {
    "colab": {
      "provenance": []
    },
    "kernelspec": {
      "name": "python3",
      "display_name": "Python 3"
    },
    "language_info": {
      "name": "python"
    }
  },
  "cells": [
    {
      "cell_type": "markdown",
      "source": [
        "# Theory Questions:\n",
        "\n",
        "1. What is the difference between a function and a method in Python?\n",
        "\n",
        "-> Functions:\n",
        "  \n",
        "  . A function is defined using the def keyword and is not associated with any object or class.\n",
        "\n",
        "  . It stands alone and can be called independently.\n",
        "\n",
        "  . Example:\n",
        "    \n",
        "    def greet(name):\n",
        "    return f\"Hello, {name}!\"\n",
        "\n",
        "    print(greet(\"Alice\"))\n",
        "\n",
        "  -> Method:\n",
        "  \n",
        "  . A method is a function that is associated with an object.\n",
        "  \n",
        "  . It is called on an object and often takes self as its first parameter to refer to the instance calling it.\n",
        "\n",
        "  . Example:\n",
        "\n",
        "    class Greeter:\n",
        "    def greet(self, name):\n",
        "        return f\"Hello, {name}!\"\n",
        "\n",
        "    g = Greeter()\n",
        "    print(g.greet(\"Bob\"))\n",
        "\n",
        "2. Explain the concept of function arguments and parameters in Python.\n",
        "\n",
        "  -> Parameters:\n",
        "  \n",
        "  . Parameters are variables listed in a function's definition.\n",
        "\n",
        "  . It is used to accept values.\n",
        "\n",
        "  -> Arguments:\n",
        "\n",
        "  . Arguements are the actual values passed to the function when it is called.\n",
        "\n",
        "  . Example:\n",
        "\n",
        "\n",
        "    def multiply(a, b):  \n",
        "    return a * b\n",
        "\n",
        "    result = multiply(3, 4)  # 3 and 4 are arguments\n",
        "    print(result)  \n",
        "\n",
        "3. What are the different ways to define and call a function in Python?\n",
        "\n",
        "  -> Different ways to define and call a function in Python:\n",
        "\n",
        "  . Standard function: A basic function with fixed parameters.\n",
        "\n",
        "  Example:    \n",
        "   \n",
        "   \n",
        "    def greet(name):\n",
        "    return f\"Hello, {name}\"\n",
        "    print(greet(\"Alice\"))\n",
        "\n",
        "  -> Default arguements: Parameters have default values used if no arguement is passed.\n",
        "\n",
        "  . Example:\n",
        "\n",
        "    def greet(name=\"Guest\"):\n",
        "    return f\"Hello, {name}\"\n",
        "    print(greet())\n",
        "\n",
        "  -> Keyword arguements: Arguements are passed by name, allowing flexible order.\n",
        "\n",
        "  . Example:\n",
        "\n",
        "    def info(name, age):\n",
        "    return f\"{name} is {age}\"\n",
        "    print(info(age=25, name=\"Eve\"))\n",
        "\n",
        "  -> Variable length arguements: Allows passing multiple positional arguements.\n",
        "\n",
        "  . Example:\n",
        "\n",
        "    def add_all(*numbers):\n",
        "    return sum(numbers)\n",
        "    print(add_all(1, 2, 3))\n",
        "\n",
        "  -> Lambda function: A short, anonymous function for simple operations.\n",
        "\n",
        "  . Example:\n",
        "\n",
        "    square = lambda x: x * x\n",
        "    print(square(5))\n",
        "\n",
        "4.  What is the purpose of the `return` statement in a Python function?\n",
        "\n",
        "  -> The return statement is used to send a result back from a function to the caller. It ends the function execution and provides the output value.\n",
        "\n",
        "  Example:\n",
        "\n",
        "\n",
        "    def add(a, b):\n",
        "    return a + b\n",
        "\n",
        "    result = add(3, 5)\n",
        "    print(result)  \n",
        "\n",
        "5. What are iterators in Python and how do they differ from iterables?\n",
        "\n",
        "  -> Iterable: An object that can be looped over. It has an __iter__() method.\n",
        "  \n",
        "  . It can be converted to an iterator using iter().\n",
        "\n",
        "  -> Iterator: An object that remembers its position during iteration. It has both __iter__() and __next__() methods.\n",
        "\n",
        "  . It gives the next item using next().\n",
        "\n",
        "  Example:\n",
        "\n",
        "\n",
        "    nums = [1, 2, 3]        # This is an iterable\n",
        "    it = iter(nums)         # Convert iterable to iterator\n",
        "\n",
        "    print(next(it))         # Output: 1\n",
        "    print(next(it))         # Output: 2\n",
        "\n",
        "6. Explain the concept of generators in Python and how they are defined.\n",
        "\n",
        "  -> Generators are special functions that return an iterator using the yield keyword instead of return.\n",
        "\n",
        "  -> yield pauses the function and saves its state for resuming later.\n",
        "\n",
        "  -> Generators are memory efficient, they generate values one at a time, on demand of the user.\n",
        "\n",
        "  -> A generator is defined as:\n",
        "\n",
        "\n",
        "    def count_up_to(n):\n",
        "    count = 1\n",
        "    while count <= n:\n",
        "    yield count\n",
        "    count += 1\n",
        "\n",
        "  -> Usage:\n",
        "\n",
        "    counter = count_up_to(3)\n",
        "    print(next(counter))  # Output: 1\n",
        "    print(next(counter))  # Output: 2\n",
        "\n",
        "7.  What are the advantages of using generators over regular functions?\n",
        "\n",
        "  -> Advantages of using generators over regular functions:\n",
        "\n",
        "  . Memory efficient: - Generator yield one at a time, so they dont store the entire sequence in memory . They are great for large datasets or infinite sequences.\n",
        "\n",
        "  . Faster startup time: - They start execution immediately, unlike functions that may build large lists before returning.\n",
        "\n",
        "  . Lazy evaluation - Values are produced only when needed, improving performance.\n",
        "\n",
        "  . Simple code for Iterators: - Easier to write than custom iterator classes using __iter__ and __next__.\n",
        "\n",
        "  . Example:\n",
        "\n",
        "\n",
        "    def gen_numbers():\n",
        "    for i in range(1000000):\n",
        "    yield i\n",
        "\n",
        "    for num in gen_numbers():\n",
        "    if num > 5:\n",
        "    break\n",
        "    print(num)\n",
        "\n",
        "8. What is a lambda function in Python and when is it typically used?\n",
        "\n",
        "  -> A lambda function is a small, anonymous function define using the lambda keyword. It can have any number of arguments but only one expression.\n",
        "\n",
        "  -> It is uesd when a short function is needed for a limited scope.\n",
        "\n",
        "  -> It is commonly used with function like map(), filter() and sorted().\n",
        "\n",
        "  -> Example:\n",
        "\n",
        "\n",
        "    square = lambda x: x * x\n",
        "    print(square(5))  \n",
        "\n",
        "9.  Explain the purpose and usage of the `map()` function in Python.\n",
        "\n",
        "  -> The map() function applies a given function to each item of an iterable, and returns a map object with the results.\n",
        "\n",
        "  -> When you want to transform items in a list of other iterable without using a loop.\n",
        "\n",
        "  -> It often used with lambda function for consice code.\n",
        "\n",
        "  -> Example:\n",
        "\n",
        "\n",
        "    nums = [1, 2, 3, 4]\n",
        "    squared = map(lambda x: x**2, nums)\n",
        "    print(list(squared))  # Output: [1, 4, 9, 16]\n",
        "\n",
        "10. What is the difference between `map()`, `reduce()`, and `filter()` functions in Python?\n",
        "\n",
        "  -> map():\n",
        "\n",
        "  . It applies a function to each item in an iterable.\n",
        "\n",
        "  . it is commonly used for data transformation.\n",
        "\n",
        "  . Example:\n",
        "\n",
        "\n",
        "    nums = [1, 2, 3]\n",
        "    squares = list(map(lambda x: x**2, nums))  # [1, 4, 9]\n",
        "\n",
        "  -> filter():\n",
        "\n",
        "  . It filters items based on a condition.\n",
        "\n",
        "  . It is ued for data selection.\n",
        "\n",
        "  . Example:\n",
        "\n",
        "    even = list(filter(lambda x: x % 2 == 0, nums))  # [2]\n",
        "\n",
        "  -> reduce():\n",
        "\n",
        "  . It repeatedly applies a function to reduce iterable to a single value.\n",
        "\n",
        "  . It is used for aggregation.\n",
        "\n",
        "  . Example:\n",
        "\n",
        "    from functools import reduce\n",
        "    product = reduce(lambda x, y: x * y, nums)  # 6 (1*2*3)\n",
        "\n",
        "\n",
        "Practical Questions:\n",
        "\n",
        "1. Write a Python function that takes a list of numbers as input and returns the sum of all even numbers in the list."
      ],
      "metadata": {
        "id": "1KhEWfHEv8Rg"
      }
    },
    {
      "cell_type": "code",
      "source": [
        "def sum_even_numbers(numbers):\n",
        "    return sum(num for num in numbers if num % 2 == 0)\n",
        "\n",
        "my_list = [10, 5, 3, 8, 2]\n",
        "result = sum_even_numbers(my_list)\n",
        "print(result)"
      ],
      "metadata": {
        "colab": {
          "base_uri": "https://localhost:8080/"
        },
        "id": "3Qr29hDFwo_N",
        "outputId": "055eb5ec-ae8c-41b8-b3c5-1c94bd6bb790"
      },
      "execution_count": 5,
      "outputs": [
        {
          "output_type": "stream",
          "name": "stdout",
          "text": [
            "20\n"
          ]
        }
      ]
    },
    {
      "cell_type": "markdown",
      "source": [
        "2. Create a Python function that accepts a string and returns the reverse of that string."
      ],
      "metadata": {
        "id": "WpOJfMhkJRsc"
      }
    },
    {
      "cell_type": "code",
      "source": [
        "def reverse_string(text):\n",
        "    return text[::-1]\n",
        "\n",
        "# Example usage\n",
        "print(reverse_string(\"hello\"))"
      ],
      "metadata": {
        "colab": {
          "base_uri": "https://localhost:8080/"
        },
        "id": "NQdwLb5vJXGO",
        "outputId": "63ade8c9-3aed-42da-fcd8-28b6cbec261e"
      },
      "execution_count": 6,
      "outputs": [
        {
          "output_type": "stream",
          "name": "stdout",
          "text": [
            "olleh\n"
          ]
        }
      ]
    },
    {
      "cell_type": "markdown",
      "source": [
        "3. Implement a Python function that takes a list of integers and returns a new list containing the squares of each number."
      ],
      "metadata": {
        "id": "BMVIbas7JgBn"
      }
    },
    {
      "cell_type": "code",
      "source": [
        "def square_list(numbers):\n",
        "    return [x**2 for x in numbers]\n",
        "\n",
        "# Example usage\n",
        "nums = [1, 2, 3, 4]\n",
        "print(square_list(nums))"
      ],
      "metadata": {
        "colab": {
          "base_uri": "https://localhost:8080/"
        },
        "id": "Fz2COjQjJmDx",
        "outputId": "021b28c8-dc1b-4d0f-da0c-317448933d6e"
      },
      "execution_count": 7,
      "outputs": [
        {
          "output_type": "stream",
          "name": "stdout",
          "text": [
            "[1, 4, 9, 16]\n"
          ]
        }
      ]
    },
    {
      "cell_type": "markdown",
      "source": [
        "4. Write a Python function that checks if a given number is prime or not from 1 to 200."
      ],
      "metadata": {
        "id": "koGTKzOXJriV"
      }
    },
    {
      "cell_type": "code",
      "source": [
        "def is_prime(n):\n",
        "    if n < 2:\n",
        "        return False\n",
        "    for i in range(2, int(n**0.5) + 1):\n",
        "        if n % i == 0:\n",
        "            return False\n",
        "    return True\n",
        "\n",
        "for num in range(1, 201):\n",
        "    if is_prime(num):\n",
        "        print(f\"{num} is prime\")"
      ],
      "metadata": {
        "collapsed": true,
        "id": "ruibds45JysG"
      },
      "execution_count": null,
      "outputs": []
    },
    {
      "cell_type": "markdown",
      "source": [
        "5. Create an iterator class in Python that generates the Fibonacci sequence up to a specified number of terms."
      ],
      "metadata": {
        "id": "M9104IlWKK6Z"
      }
    },
    {
      "cell_type": "code",
      "source": [
        "class FibonacciIterator:\n",
        "    def __init__(self, max_terms):\n",
        "        self.max_terms = max_terms\n",
        "        self.count = 0\n",
        "        self.a, self.b = 0, 1\n",
        "\n",
        "    def __iter__(self):\n",
        "        return self\n",
        "\n",
        "    def __next__(self):\n",
        "        if self.count >= self.max_terms:\n",
        "            raise StopIteration\n",
        "        if self.count == 0:\n",
        "            self.count += 1\n",
        "            return 0\n",
        "        elif self.count == 1:\n",
        "            self.count += 1\n",
        "            return 1\n",
        "        else:\n",
        "            self.a, self.b = self.b, self.a + self.b\n",
        "            self.count += 1\n",
        "            return self.a\n",
        "\n",
        "fib = FibonacciIterator(10)\n",
        "for num in fib:\n",
        "    print(num)"
      ],
      "metadata": {
        "collapsed": true,
        "id": "Bb8FxE3EKVR7"
      },
      "execution_count": null,
      "outputs": []
    },
    {
      "cell_type": "markdown",
      "source": [
        "6. Write a generator function in Python that yields the powers of 2 up to a given exponent."
      ],
      "metadata": {
        "id": "Ik7YsKRuKdil"
      }
    },
    {
      "cell_type": "code",
      "source": [
        "def powers_of_two(max_exponent):\n",
        "    for i in range(max_exponent + 1):\n",
        "        yield 2 ** i\n",
        "\n",
        "for power in powers_of_two(5):\n",
        "    print(power)"
      ],
      "metadata": {
        "id": "7r-RDN30KhKE"
      },
      "execution_count": null,
      "outputs": []
    },
    {
      "cell_type": "markdown",
      "source": [
        "7.  Implement a generator function that reads a file line by line and yields each line as a string."
      ],
      "metadata": {
        "id": "H3yv-qwqKmj7"
      }
    },
    {
      "cell_type": "code",
      "source": [
        "def read_file_lines(filepath):\n",
        "    with open(filepath, 'r') as file:\n",
        "        for line in file:\n",
        "            yield line.rstrip('\\n')\n",
        "\n",
        "# Assuming 'example.txt' exists\n",
        "for line in read_file_lines('example.txt'):\n",
        "    print(line)"
      ],
      "metadata": {
        "id": "Fcs-5ARwKu4f"
      },
      "execution_count": null,
      "outputs": []
    },
    {
      "cell_type": "markdown",
      "source": [
        "8. Use a lambda function in Python to sort a list of tuples based on the second element of each tuple."
      ],
      "metadata": {
        "id": "2AhS1FZTK3tn"
      }
    },
    {
      "cell_type": "code",
      "source": [
        "data = [(3, 'apple'), (1, 'banana'), (2, 'cherry')]\n",
        "\n",
        "sorted_data = sorted(data, key=lambda x: x[1])\n",
        "\n",
        "print(sorted_data)"
      ],
      "metadata": {
        "id": "5ORQiBtjK8aa"
      },
      "execution_count": null,
      "outputs": []
    },
    {
      "cell_type": "markdown",
      "source": [
        "9. Write a Python program that uses `map()` to convert a list of temperatures from Celsius to Fahrenheit."
      ],
      "metadata": {
        "id": "K6S2pn1wLAZK"
      }
    },
    {
      "cell_type": "code",
      "source": [
        "def c_to_f(c):\n",
        "    return (c * 9/5) + 32\n",
        "\n",
        "celsius = [0, 20, 30, 37, 100]\n",
        "\n",
        "fahrenheit = list(map(c_to_f, celsius))\n",
        "\n",
        "print(fahrenheit)"
      ],
      "metadata": {
        "id": "I8XlMFXQLEKe"
      },
      "execution_count": null,
      "outputs": []
    },
    {
      "cell_type": "markdown",
      "source": [
        " 10. Create a Python program that uses `filter()` to remove all the vowels from a given string."
      ],
      "metadata": {
        "id": "CVM_sCj8LKeu"
      }
    },
    {
      "cell_type": "code",
      "source": [
        "def remove_vowels(s):\n",
        "    vowels = 'aeiouAEIOU'\n",
        "    return ''.join(filter(lambda char: char not in vowels, s))\n",
        "\n",
        "text = \"Hello World\"\n",
        "result = remove_vowels(text)\n",
        "print(result)"
      ],
      "metadata": {
        "id": "vHC047hYLOEk"
      },
      "execution_count": null,
      "outputs": []
    },
    {
      "cell_type": "markdown",
      "source": [
        "11."
      ],
      "metadata": {
        "id": "prbEz1fILTOD"
      }
    },
    {
      "cell_type": "code",
      "source": [
        "orders = [\n",
        "    (34587, \"Learning Python, Mark Lutz\", 4, 40.95),\n",
        "    (98762, \"Programming Python, Mark Lutz\", 5, 56.80),\n",
        "    (77226, \"Head First Python, Paul Barry\", 3, 32.95),\n",
        "    (88112, \"Einführung in Python3, Bernd Klein\", 3, 24.99)\n",
        "]\n",
        "\n",
        "order_totals = list(map(lambda order: (order[0], order[2] * order[3] if order[2] * order[3] >= 100 else order[2] * order[3] + 10), orders))\n",
        "\n",
        "print(order_totals)"
      ],
      "metadata": {
        "colab": {
          "base_uri": "https://localhost:8080/"
        },
        "id": "AmT6PQX2Lko3",
        "outputId": "565993d0-d016-4039-d80d-33cc0eadc46c"
      },
      "execution_count": 14,
      "outputs": [
        {
          "output_type": "stream",
          "name": "stdout",
          "text": [
            "[(34587, 163.8), (98762, 284.0), (77226, 108.85000000000001), (88112, 84.97)]\n"
          ]
        }
      ]
    }
  ]
}